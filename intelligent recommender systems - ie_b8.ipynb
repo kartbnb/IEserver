{
 "cells": [
  {
   "cell_type": "markdown",
   "metadata": {},
   "source": [
    "## Recommendation Engine of Active Boomers\n",
    "\n",
    "This tutorial is developed for rebuilding the recommendation engine with Collaborative filtering for [Active Boomers](https://irisw0219.github.io/Active-Boomers-User-Guide/) the workout app. [Collaborative filtering](https://en.wikipedia.org/wiki/Collaborative_filtering) is a family of algorithms where there are multiple ways to find similar users or items and multiple ways to calculate rating based on ratings of similar users. \n",
    "\n",
    "Most websites like Amazon, YouTube, and Netflix use collaborative filtering as a part of their sophisticated recommendation systems. You can use this technique to build recommenders that give suggestions to a user on the basis of the likes and dislikes of similar users."
   ]
  },
  {
   "cell_type": "code",
   "execution_count": 1,
   "metadata": {},
   "outputs": [],
   "source": [
    "import pandas as pd \n",
    "import numpy as np\n",
    "import matplotlib.pyplot as plt\n",
    "import pymysql\n",
    "import random\n",
    "\n",
    "%matplotlib inline"
   ]
  },
  {
   "cell_type": "markdown",
   "metadata": {},
   "source": [
    "## Connect to the database \n",
    "Using `pymysql` package."
   ]
  },
  {
   "cell_type": "code",
   "execution_count": 2,
   "metadata": {},
   "outputs": [],
   "source": [
    "connection = pymysql.connect(\n",
    "    host='db1.crcnvu3pnfow.ap-southeast-2.rds.amazonaws.com',\n",
    "    port=int(3306),\n",
    "    user=\"admin\",\n",
    "    passwd=\"abcd1234\", # confidential!!\n",
    "    db=\"b8_db\",\n",
    "    charset='utf8mb4')\n"
   ]
  },
  {
   "cell_type": "markdown",
   "metadata": {},
   "source": [
    "## Make SQL queries to load data\n",
    "All we need for running this algorithm is `rating` data from the db server.\n",
    "But we will also have a look at the `item` data just to get an idea of what our business is about..."
   ]
  },
  {
   "cell_type": "code",
   "execution_count": 3,
   "metadata": {},
   "outputs": [],
   "source": [
    "sql_select_Query = pd.read_sql_query(\"select * from b8_db.popularity_review\",connection)"
   ]
  },
  {
   "cell_type": "code",
   "execution_count": 4,
   "metadata": {},
   "outputs": [
    {
     "data": {
      "text/html": [
       "<div>\n",
       "<style scoped>\n",
       "    .dataframe tbody tr th:only-of-type {\n",
       "        vertical-align: middle;\n",
       "    }\n",
       "\n",
       "    .dataframe tbody tr th {\n",
       "        vertical-align: top;\n",
       "    }\n",
       "\n",
       "    .dataframe thead th {\n",
       "        text-align: right;\n",
       "    }\n",
       "</style>\n",
       "<table border=\"1\" class=\"dataframe\">\n",
       "  <thead>\n",
       "    <tr style=\"text-align: right;\">\n",
       "      <th></th>\n",
       "      <th>item</th>\n",
       "      <th>user</th>\n",
       "      <th>rating</th>\n",
       "    </tr>\n",
       "  </thead>\n",
       "  <tbody>\n",
       "    <tr>\n",
       "      <th>0</th>\n",
       "      <td>5</td>\n",
       "      <td>2</td>\n",
       "      <td>1</td>\n",
       "    </tr>\n",
       "    <tr>\n",
       "      <th>1</th>\n",
       "      <td>10</td>\n",
       "      <td>2</td>\n",
       "      <td>-1</td>\n",
       "    </tr>\n",
       "    <tr>\n",
       "      <th>2</th>\n",
       "      <td>8</td>\n",
       "      <td>2</td>\n",
       "      <td>1</td>\n",
       "    </tr>\n",
       "    <tr>\n",
       "      <th>3</th>\n",
       "      <td>10</td>\n",
       "      <td>6</td>\n",
       "      <td>1</td>\n",
       "    </tr>\n",
       "    <tr>\n",
       "      <th>4</th>\n",
       "      <td>8</td>\n",
       "      <td>6</td>\n",
       "      <td>1</td>\n",
       "    </tr>\n",
       "  </tbody>\n",
       "</table>\n",
       "</div>"
      ],
      "text/plain": [
       "   item  user  rating\n",
       "0     5     2       1\n",
       "1    10     2      -1\n",
       "2     8     2       1\n",
       "3    10     6       1\n",
       "4     8     6       1"
      ]
     },
     "execution_count": 4,
     "metadata": {},
     "output_type": "execute_result"
    }
   ],
   "source": [
    "# read sql query into pandas df\n",
    "rating = pd.DataFrame(sql_select_Query, columns=['review_id','user_id','activity_id','review_rating'])\n",
    "rating = rating[['activity_id','user_id','review_rating']]\n",
    "rating.columns = ['item','user','rating']\n",
    "rating.head()"
   ]
  },
  {
   "cell_type": "markdown",
   "metadata": {},
   "source": [
    "We have fetched 105 entries of rating data this time."
   ]
  },
  {
   "cell_type": "code",
   "execution_count": 5,
   "metadata": {},
   "outputs": [
    {
     "data": {
      "text/plain": [
       "(105, 3)"
      ]
     },
     "execution_count": 5,
     "metadata": {},
     "output_type": "execute_result"
    }
   ],
   "source": [
    "rating.shape"
   ]
  },
  {
   "cell_type": "markdown",
   "metadata": {},
   "source": [
    "Most ratings are positive given the mean value of the ratings"
   ]
  },
  {
   "cell_type": "code",
   "execution_count": 6,
   "metadata": {},
   "outputs": [
    {
     "data": {
      "text/html": [
       "<div>\n",
       "<style scoped>\n",
       "    .dataframe tbody tr th:only-of-type {\n",
       "        vertical-align: middle;\n",
       "    }\n",
       "\n",
       "    .dataframe tbody tr th {\n",
       "        vertical-align: top;\n",
       "    }\n",
       "\n",
       "    .dataframe thead th {\n",
       "        text-align: right;\n",
       "    }\n",
       "</style>\n",
       "<table border=\"1\" class=\"dataframe\">\n",
       "  <thead>\n",
       "    <tr style=\"text-align: right;\">\n",
       "      <th></th>\n",
       "      <th>item</th>\n",
       "      <th>user</th>\n",
       "      <th>rating</th>\n",
       "    </tr>\n",
       "  </thead>\n",
       "  <tbody>\n",
       "    <tr>\n",
       "      <th>count</th>\n",
       "      <td>105.000000</td>\n",
       "      <td>105.000000</td>\n",
       "      <td>105.000000</td>\n",
       "    </tr>\n",
       "    <tr>\n",
       "      <th>mean</th>\n",
       "      <td>33.485714</td>\n",
       "      <td>49.847619</td>\n",
       "      <td>0.885714</td>\n",
       "    </tr>\n",
       "    <tr>\n",
       "      <th>std</th>\n",
       "      <td>23.441053</td>\n",
       "      <td>45.299597</td>\n",
       "      <td>0.466457</td>\n",
       "    </tr>\n",
       "    <tr>\n",
       "      <th>min</th>\n",
       "      <td>1.000000</td>\n",
       "      <td>1.000000</td>\n",
       "      <td>-1.000000</td>\n",
       "    </tr>\n",
       "    <tr>\n",
       "      <th>25%</th>\n",
       "      <td>8.000000</td>\n",
       "      <td>9.000000</td>\n",
       "      <td>1.000000</td>\n",
       "    </tr>\n",
       "    <tr>\n",
       "      <th>50%</th>\n",
       "      <td>39.000000</td>\n",
       "      <td>52.000000</td>\n",
       "      <td>1.000000</td>\n",
       "    </tr>\n",
       "    <tr>\n",
       "      <th>75%</th>\n",
       "      <td>50.000000</td>\n",
       "      <td>87.000000</td>\n",
       "      <td>1.000000</td>\n",
       "    </tr>\n",
       "    <tr>\n",
       "      <th>max</th>\n",
       "      <td>68.000000</td>\n",
       "      <td>137.000000</td>\n",
       "      <td>1.000000</td>\n",
       "    </tr>\n",
       "  </tbody>\n",
       "</table>\n",
       "</div>"
      ],
      "text/plain": [
       "             item        user      rating\n",
       "count  105.000000  105.000000  105.000000\n",
       "mean    33.485714   49.847619    0.885714\n",
       "std     23.441053   45.299597    0.466457\n",
       "min      1.000000    1.000000   -1.000000\n",
       "25%      8.000000    9.000000    1.000000\n",
       "50%     39.000000   52.000000    1.000000\n",
       "75%     50.000000   87.000000    1.000000\n",
       "max     68.000000  137.000000    1.000000"
      ]
     },
     "execution_count": 6,
     "metadata": {},
     "output_type": "execute_result"
    }
   ],
   "source": [
    "rating.describe()"
   ]
  },
  {
   "cell_type": "code",
   "execution_count": 7,
   "metadata": {},
   "outputs": [
    {
     "data": {
      "text/html": [
       "<div>\n",
       "<style scoped>\n",
       "    .dataframe tbody tr th:only-of-type {\n",
       "        vertical-align: middle;\n",
       "    }\n",
       "\n",
       "    .dataframe tbody tr th {\n",
       "        vertical-align: top;\n",
       "    }\n",
       "\n",
       "    .dataframe thead th {\n",
       "        text-align: right;\n",
       "    }\n",
       "</style>\n",
       "<table border=\"1\" class=\"dataframe\">\n",
       "  <thead>\n",
       "    <tr style=\"text-align: right;\">\n",
       "      <th></th>\n",
       "      <th>item_id</th>\n",
       "      <th>item_name</th>\n",
       "    </tr>\n",
       "  </thead>\n",
       "  <tbody>\n",
       "    <tr>\n",
       "      <th>0</th>\n",
       "      <td>1</td>\n",
       "      <td>Fast walk</td>\n",
       "    </tr>\n",
       "    <tr>\n",
       "      <th>1</th>\n",
       "      <td>2</td>\n",
       "      <td>Easy dance exercises</td>\n",
       "    </tr>\n",
       "    <tr>\n",
       "      <th>2</th>\n",
       "      <td>3</td>\n",
       "      <td>ABS HIIT workout</td>\n",
       "    </tr>\n",
       "    <tr>\n",
       "      <th>3</th>\n",
       "      <td>4</td>\n",
       "      <td>Cycling</td>\n",
       "    </tr>\n",
       "    <tr>\n",
       "      <th>4</th>\n",
       "      <td>5</td>\n",
       "      <td>Pool workout</td>\n",
       "    </tr>\n",
       "    <tr>\n",
       "      <th>5</th>\n",
       "      <td>6</td>\n",
       "      <td>Water aerobic</td>\n",
       "    </tr>\n",
       "    <tr>\n",
       "      <th>6</th>\n",
       "      <td>7</td>\n",
       "      <td>Badminton</td>\n",
       "    </tr>\n",
       "    <tr>\n",
       "      <th>7</th>\n",
       "      <td>8</td>\n",
       "      <td>Tennis</td>\n",
       "    </tr>\n",
       "    <tr>\n",
       "      <th>8</th>\n",
       "      <td>9</td>\n",
       "      <td>Shoulder rotation</td>\n",
       "    </tr>\n",
       "    <tr>\n",
       "      <th>9</th>\n",
       "      <td>10</td>\n",
       "      <td>Shoulder raise</td>\n",
       "    </tr>\n",
       "  </tbody>\n",
       "</table>\n",
       "</div>"
      ],
      "text/plain": [
       "   item_id             item_name\n",
       "0        1             Fast walk\n",
       "1        2  Easy dance exercises\n",
       "2        3      ABS HIIT workout\n",
       "3        4               Cycling\n",
       "4        5          Pool workout\n",
       "5        6         Water aerobic\n",
       "6        7             Badminton\n",
       "7        8                Tennis\n",
       "8        9     Shoulder rotation\n",
       "9       10        Shoulder raise"
      ]
     },
     "execution_count": 7,
     "metadata": {},
     "output_type": "execute_result"
    }
   ],
   "source": [
    "# Item names associated with the id's\n",
    "sql_select_Query = pd.read_sql_query(\"select activity_id, activity_name from b8_db.physical_activity\",connection)\n",
    "item = pd.DataFrame(sql_select_Query, columns=['activity_id',\n",
    "                                             'activity_name'])\n",
    "item.columns = ['item_id','item_name']\n",
    "item.head(10)"
   ]
  },
  {
   "cell_type": "code",
   "execution_count": 8,
   "metadata": {},
   "outputs": [
    {
     "data": {
      "text/plain": [
       "(68, 2)"
      ]
     },
     "execution_count": 8,
     "metadata": {},
     "output_type": "execute_result"
    }
   ],
   "source": [
    "item.shape"
   ]
  },
  {
   "attachments": {
    "image.png": {
     "image/png": "[encoded data removed]"
    }
   },
   "cell_type": "markdown",
   "metadata": {},
   "source": [
    "## Collaborative Filtering Algorithm\n",
    "The model we are going to build is a rather simple one, which only takes three variables:\n",
    "1. item id\n",
    "2. user id\n",
    "3. rating\n",
    "\n",
    "\n",
    "To build a system that can automatically recommend items to users based on the preferences of other users, the first step is to find similar users or items via **similarity computation**. The second step is to predict the ratings of the items that are not yet rated by a user.\n",
    "\n",
    "Similarity computation between items or users is an important part of this approach. Multiple measures are used for this including:\n",
    "1. Pearson correlation (or centered consine) and \n",
    "2. vector cosine based similarity \n",
    "\n",
    "\n",
    "The Pearson correlation similarity of two users x, y is defined as\n",
    "\n",
    "![image.png](attachment:image.png)\n",
    "\n",
    "\n",
    "This method takes into account :\n",
    "1. the missing ratings (and has it treated as average)\n",
    "2. tough raters and easy raters (some would tend to give mostly negative ratings while others positive)"
   ]
  },
  {
   "cell_type": "code",
   "execution_count": 9,
   "metadata": {},
   "outputs": [],
   "source": [
    "import pandas as pd\n",
    "from surprise import Dataset\n",
    "from surprise import Reader"
   ]
  },
  {
   "cell_type": "code",
   "execution_count": 10,
   "metadata": {},
   "outputs": [],
   "source": [
    "reader = Reader(rating_scale=(-1, 1))\n",
    "data = Dataset.load_from_df(rating[[\"user\", \"item\", \"rating\"]], reader)"
   ]
  },
  {
   "cell_type": "markdown",
   "metadata": {},
   "source": [
    "There are two approaches to do collaborative filtering:\n",
    "1. User-user\n",
    "2. Item-item\n",
    "\n",
    "In fact, item-based collaborative filtering was [developed by Amazon](https://www.cs.umd.edu/~samir/498/Amazon-Recommendations.pdf). In a system where there are more users than items, item-based filtering is faster and more stable than user-based. It is effective because usually, the average rating received by an item doesn’t change as quickly as the average rating given by a user to different items. It’s also known to perform better than the user-based approach when the ratings matrix is sparse.\n",
    "\n",
    "\n",
    "Since number of items in our app server was currently under 100 while the number of users > 100, an item-to-item collaborative filtering seems more suitable for us here, so we set `user_based` to False in the below parameters. (And we will try and make sense of that by tuning the algorithm parameters later on.)"
   ]
  },
  {
   "cell_type": "markdown",
   "metadata": {},
   "source": [
    "### K-Nearest Neighbours\n",
    "The algorithm Centered k-NN we are going to use here is available in `Surprise` as `KNNWithMeans`."
   ]
  },
  {
   "cell_type": "code",
   "execution_count": 11,
   "metadata": {},
   "outputs": [],
   "source": [
    "# recommender.py\n",
    "from surprise import KNNWithMeans\n",
    "\n",
    "# To use item-based cosine similarity\n",
    "sim_options = {\n",
    "    \"name\": \"pearson\",\n",
    "    \"user_based\": False,  # Compute  similarities between items\n",
    "}\n",
    "algo = KNNWithMeans(sim_options=sim_options)"
   ]
  },
  {
   "cell_type": "code",
   "execution_count": 12,
   "metadata": {},
   "outputs": [
    {
     "name": "stdout",
     "output_type": "stream",
     "text": [
      "Computing the pearson similarity matrix...\n",
      "Done computing similarity matrix.\n"
     ]
    },
    {
     "data": {
      "text/plain": [
       "<surprise.prediction_algorithms.knns.KNNWithMeans at 0x1101dff90>"
      ]
     },
     "execution_count": 12,
     "metadata": {},
     "output_type": "execute_result"
    }
   ],
   "source": [
    "trainingSet = data.build_full_trainset()\n",
    "algo.fit(trainingSet)"
   ]
  },
  {
   "cell_type": "markdown",
   "metadata": {},
   "source": [
    "### Example: making predictions for user 1-3 using the trained model"
   ]
  },
  {
   "cell_type": "code",
   "execution_count": 13,
   "metadata": {},
   "outputs": [
    {
     "name": "stdout",
     "output_type": "stream",
     "text": [
      "\n",
      "Predicted rating on item1-10 for user1\n",
      "item 1 : 1\n",
      "item 2 : 1\n",
      "item 3 : 1\n",
      "item 4 : 1\n",
      "item 5 : 1\n",
      "item 6 : 0.8857142857142857\n",
      "item 7 : 0.8857142857142857\n",
      "item 8 : 1\n",
      "item 9 : 0.8857142857142857\n",
      "item 10 : -0.5\n",
      "\n",
      "Predicted rating on item1-10 for user2\n",
      "item 1 : 1\n",
      "item 2 : 1\n",
      "item 3 : 1\n",
      "item 4 : 1\n",
      "item 5 : 1\n",
      "item 6 : 0.8857142857142857\n",
      "item 7 : 0.8857142857142857\n",
      "item 8 : 1\n",
      "item 9 : 0.8857142857142857\n",
      "item 10 : -1\n",
      "\n",
      "Predicted rating on item1-10 for user3\n",
      "item 1 : 0.8857142857142857\n",
      "item 2 : 0.8857142857142857\n",
      "item 3 : 0.8857142857142857\n",
      "item 4 : 0.8857142857142857\n",
      "item 5 : 0.8857142857142857\n",
      "item 6 : 0.8857142857142857\n",
      "item 7 : 0.8857142857142857\n",
      "item 8 : 0.8857142857142857\n",
      "item 9 : 0.8857142857142857\n",
      "item 10 : 0.8857142857142857\n"
     ]
    }
   ],
   "source": [
    "users = [1,2,3]\n",
    "start = 1\n",
    "end = 11\n",
    "\n",
    "for user in users:\n",
    "    print(f\"\\nPredicted rating on item{start}-{end-1} for user{user}\" )\n",
    "\n",
    "    for i in range(start,end):\n",
    "        prediction = algo.predict(user, i)\n",
    "        print(\"item\",i,\":\",prediction.est)"
   ]
  },
  {
   "cell_type": "markdown",
   "metadata": {},
   "source": [
    "## From predicted ratings to actual recommendations\n",
    "The output of the model is a predicted rating (ranging from -1 to 1). But, what are we goint to do with these predictions?\n",
    "\n",
    "Since our user/item dataset is currently relatively small in size, we are having higher chance of overfitting here. That's why we are going to downplay the effect of these predictions a little, not ruling out the possibility of items with negative predictions being recommended completely. \n",
    "\n",
    "So now, based on the predictions, we are going to manually generate a weight for each item. And then we are going to randomly select an item from such weighted list as a recommendation for a given user. This way, even items with low predicted ratings still get to be recommeded (even though the probability of that is also ralatively lower given the lower weights)."
   ]
  },
  {
   "cell_type": "code",
   "execution_count": 14,
   "metadata": {},
   "outputs": [],
   "source": [
    "def generate_weights(user,item_list,algo):\n",
    "    \"\"\"generates a list of items based on their weights\"\"\"\n",
    "    \n",
    "    # generates predictions\n",
    "    def rating_pred(user,item_list,algo):\n",
    "        pred = {}\n",
    "        for i in item_list:\n",
    "            prediction = algo.predict(user, i)\n",
    "            pred[i] = prediction.est\n",
    "        return pred\n",
    "    \n",
    "    # generates weights \n",
    "    weighted_list = []\n",
    "    pred = rating_pred(3,item_list,algo)\n",
    "    \n",
    "    for i in pred.keys():\n",
    "        if pred[i] <0: # if the predicted rating is negative\n",
    "            weighted_list += [i]\n",
    "        elif pred[i] <0.9: # if the predicted rating < 0.9\n",
    "            weighted_list += 2 * [i]\n",
    "        else: # if pred == 1\n",
    "            weighted_list += 3 * [i]\n",
    "    return weighted_list\n",
    "    "
   ]
  },
  {
   "cell_type": "code",
   "execution_count": 15,
   "metadata": {},
   "outputs": [
    {
     "data": {
      "text/plain": [
       "68"
      ]
     },
     "execution_count": 15,
     "metadata": {},
     "output_type": "execute_result"
    }
   ],
   "source": [
    "len(item.item_id)"
   ]
  },
  {
   "cell_type": "code",
   "execution_count": 16,
   "metadata": {},
   "outputs": [
    {
     "data": {
      "text/plain": [
       "136"
      ]
     },
     "execution_count": 16,
     "metadata": {},
     "output_type": "execute_result"
    }
   ],
   "source": [
    "weighted_l = generate_weights(3,item.item_id,algo)\n",
    "len(weighted_l)"
   ]
  },
  {
   "cell_type": "markdown",
   "metadata": {},
   "source": [
    "## Recommendations generated from the weighted list for user 3\n",
    "\n",
    "### Simulation: Runing 1000 times of recommendations based on the weighted list for user3"
   ]
  },
  {
   "cell_type": "code",
   "execution_count": 17,
   "metadata": {},
   "outputs": [],
   "source": [
    "freq_D = {}\n",
    "for i in range(1000):\n",
    "    item = random.choice(weighted_l)\n",
    "    if item not in freq_D:\n",
    "        freq_D[item] = 1\n",
    "    else:\n",
    "        freq_D[item] +=1\n",
    " \n",
    "freq_df = pd.DataFrame(freq_D.items(),columns=['item','frequency'])"
   ]
  },
  {
   "cell_type": "code",
   "execution_count": 18,
   "metadata": {},
   "outputs": [
    {
     "data": {
      "image/png": "[encoded data removed]",
      "text/plain": [
       "<Figure size 864x576 with 1 Axes>"
      ]
     },
     "metadata": {
      "needs_background": "light"
     },
     "output_type": "display_data"
    }
   ],
   "source": [
    "freq_df.sort_values('frequency',ascending=False).set_index('item')[:60].plot(kind='bar',figsize=(12,8),\n",
    "                                                           title=\"Frequent Items\")\n",
    "plt.show()"
   ]
  },
  {
   "cell_type": "markdown",
   "metadata": {},
   "source": [
    "The frequency was indeed not evenly distributed because of the different weights we gave to each item based on the predicted ratings of the algorithm."
   ]
  },
  {
   "cell_type": "markdown",
   "metadata": {},
   "source": [
    "### Tuning the Algorithm Parameters\n",
    "The result suggests that the algorithm works best if you go with those parameters:\n",
    "{'sim_options': {'name': 'pearson', 'min_support': 3, 'user_based': False}}"
   ]
  },
  {
   "cell_type": "code",
   "execution_count": 19,
   "metadata": {},
   "outputs": [
    {
     "name": "stdout",
     "output_type": "stream",
     "text": [
      "Computing the pearson similarity matrix...\n",
      "Done computing similarity matrix.\n",
      "Computing the pearson similarity matrix...\n",
      "Done computing similarity matrix.\n",
      "Computing the pearson similarity matrix...\n",
      "Done computing similarity matrix.\n",
      "Computing the pearson similarity matrix...\n",
      "Done computing similarity matrix.\n",
      "Computing the pearson similarity matrix...\n",
      "Done computing similarity matrix.\n",
      "Computing the pearson similarity matrix...\n",
      "Done computing similarity matrix.\n",
      "Computing the pearson similarity matrix...\n",
      "Done computing similarity matrix.\n",
      "Computing the pearson similarity matrix...\n",
      "Done computing similarity matrix.\n",
      "Computing the pearson similarity matrix...\n",
      "Done computing similarity matrix.\n",
      "Computing the pearson similarity matrix...\n",
      "Done computing similarity matrix.\n",
      "Computing the pearson similarity matrix...\n",
      "Done computing similarity matrix.\n",
      "Computing the pearson similarity matrix...\n",
      "Done computing similarity matrix.\n",
      "Computing the pearson similarity matrix...\n",
      "Done computing similarity matrix.\n",
      "Computing the pearson similarity matrix...\n",
      "Done computing similarity matrix.\n",
      "Computing the pearson similarity matrix...\n",
      "Done computing similarity matrix.\n",
      "Computing the pearson similarity matrix...\n",
      "Done computing similarity matrix.\n",
      "Computing the pearson similarity matrix...\n",
      "Done computing similarity matrix.\n",
      "Computing the pearson similarity matrix...\n",
      "Done computing similarity matrix.\n",
      "Computing the cosine similarity matrix...\n",
      "Done computing similarity matrix.\n",
      "Computing the cosine similarity matrix...\n",
      "Done computing similarity matrix.\n",
      "Computing the cosine similarity matrix...\n",
      "Done computing similarity matrix.\n",
      "Computing the cosine similarity matrix...\n",
      "Done computing similarity matrix.\n",
      "Computing the cosine similarity matrix...\n",
      "Done computing similarity matrix.\n",
      "Computing the cosine similarity matrix...\n",
      "Done computing similarity matrix.\n",
      "Computing the cosine similarity matrix...\n",
      "Done computing similarity matrix.\n",
      "Computing the cosine similarity matrix...\n",
      "Done computing similarity matrix.\n",
      "Computing the cosine similarity matrix...\n",
      "Done computing similarity matrix.\n",
      "Computing the cosine similarity matrix...\n",
      "Done computing similarity matrix.\n",
      "Computing the cosine similarity matrix...\n",
      "Done computing similarity matrix.\n",
      "Computing the cosine similarity matrix...\n",
      "Done computing similarity matrix.\n",
      "Computing the cosine similarity matrix...\n",
      "Done computing similarity matrix.\n",
      "Computing the cosine similarity matrix...\n",
      "Done computing similarity matrix.\n",
      "Computing the cosine similarity matrix...\n",
      "Done computing similarity matrix.\n",
      "Computing the cosine similarity matrix...\n",
      "Done computing similarity matrix.\n",
      "Computing the cosine similarity matrix...\n",
      "Done computing similarity matrix.\n",
      "Computing the cosine similarity matrix...\n",
      "Done computing similarity matrix.\n",
      "0.23986767105426585\n",
      "{'sim_options': {'name': 'pearson', 'min_support': 3, 'user_based': False}}\n"
     ]
    }
   ],
   "source": [
    "from surprise import KNNWithMeans\n",
    "from surprise import Dataset\n",
    "from surprise.model_selection import GridSearchCV\n",
    "\n",
    "sim_options = {\n",
    "    \"name\": [\"pearson\", \"cosine\"],\n",
    "    \"min_support\": [3, 4, 5],\n",
    "    \"user_based\": [False, True],\n",
    "}\n",
    "\n",
    "param_grid = {\"sim_options\": sim_options}\n",
    "\n",
    "gs = GridSearchCV(KNNWithMeans, param_grid, measures=[\"rmse\", \"mae\"], cv=3)\n",
    "gs.fit(data)\n",
    "\n",
    "print(gs.best_score[\"rmse\"])\n",
    "print(gs.best_params[\"rmse\"])"
   ]
  },
  {
   "cell_type": "markdown",
   "metadata": {},
   "source": [
    "## How about the cold start problem?\n",
    "Finally, we would like to take a moment to think about the cold start problem, which happens when new users or new items arrive in the dataset. Classic recommender systems like collaborative filtering assumes that each user or item has some ratings so that we can infer ratings of similar users/items even if those ratings are unavailable. \n",
    "\n",
    "However, for new users/items, this becomes hard when a user has no rating data associated to them. Same problem with out dataset here. However the algorithm seems to have worked just fine... It must have its own ways (maybe by taking a subset of items/users that represents the population) tackling such cold start problem."
   ]
  },
  {
   "cell_type": "markdown",
   "metadata": {},
   "source": [
    "### Reference: \n",
    "1. [Build a Recommendation Engine With Collaborative Filtering](https://realpython.com/build-recommendation-engine-collaborative-filtering/)\n",
    "2. [Tackling the Cold Start Problem in Recommender Systems](https://kojinoshiba.com/recsys-cold-start/)"
   ]
  },
  {
   "cell_type": "code",
   "execution_count": null,
   "metadata": {},
   "outputs": [],
   "source": []
  }
 ],
 "metadata": {
  "kernelspec": {
   "display_name": "Python 3",
   "language": "python",
   "name": "python3"
  },
  "language_info": {
   "codemirror_mode": {
    "name": "ipython",
    "version": 3
   },
   "file_extension": ".py",
   "mimetype": "text/x-python",
   "name": "python",
   "nbconvert_exporter": "python",
   "pygments_lexer": "ipython3",
   "version": "3.7.6"
  }
 },
 "nbformat": 4,
 "nbformat_minor": 2
}
